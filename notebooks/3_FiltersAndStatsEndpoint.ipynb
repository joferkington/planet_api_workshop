{
 "cells": [
  {
   "cell_type": "code",
   "execution_count": null,
   "metadata": {},
   "outputs": [],
   "source": [
    "# General setup, as explained earlier\n",
    "import os\n",
    "from pprint import pprint\n",
    "from urllib3.util.retry import Retry\n",
    "\n",
    "import requests\n",
    "from requests.adapters import HTTPAdapter\n",
    "\n",
    "PLANET_API_URL = 'https://api.planet.com/data/v1'\n",
    "\n",
    "def setup_session(api_key=None):\n",
    "    \"\"\"\n",
    "    Initialize a requests.Session that handles Planet api key auth and retries.\n",
    "    \n",
    "    :param str api_key:\n",
    "        A Planet api key. Will be read from the PL_API_KEY env var if not specified.\n",
    "    \n",
    "    :returns requests.Session session:\n",
    "        A Session instance optimized for use with Planet's api.\n",
    "    \"\"\"\n",
    "    if api_key is None:\n",
    "        api_key = os.getenv('PL_API_KEY')\n",
    "\n",
    "    session = requests.Session()\n",
    "    session.auth = (api_key, '')\n",
    "\n",
    "    retries = Retry(total=5,\n",
    "                    backoff_factor=0.2,  \n",
    "                    status_forcelist=[429])\n",
    "\n",
    "    session.mount('https://', HTTPAdapter(max_retries=retries))\n",
    "    return session\n",
    "\n",
    "session = setup_session() # Or pass in an api key if the environment variable isn't set"
   ]
  },
  {
   "cell_type": "markdown",
   "metadata": {},
   "source": [
    "Search Filters and Stats Endpoint\n",
    "--------------------------------------------------\n",
    "\n",
    "There's a lot of data available on the Planet Data API and in order to find what we're looking for, we'll have to perform various types of searches. To construct a search, we use **filters** that let us limit results based on date, geography or other metadata properties.\n",
    "\n",
    "Using these filters, we are able to search for items or get statistics for search results. Understanding how filters work is key to using Planet's api effectively.  In this exercise, we'll experiment with using filters on the **stats** endpoint to the api before continuing on to searching for scenes.\n",
    "\n",
    "The `/stats` endpoint provides a summary of the available data based on our search criteria.\n",
    "\n",
    "https://api.planet.com/data/v1/stats\n",
    "\n",
    "In this case, it's a good way to understand how filters work without being overwhelmed with results.  We'll POST a JSON filter definition to the stats endpoint to see how many items match our search criteria.\n",
    "\n",
    "\n",
    "Using a Search Filter\n",
    "-------------------------------\n",
    "\n",
    "Search filters should have the following properties:\n",
    "\n",
    "  * **Type** (`type`) - The type of filter being used\n",
    "  * **Configuration** (`config`) - The configuration for this filter\n",
    "  * **Field Name** (`field_name`) - The field on which to filter\n",
    "\n",
    "For this example, let's use a filter to get some stats on what data is available for Planet Scope (3 Band) and Rapid Eye (Ortho Tile) products taken from 2013 until now:"
   ]
  },
  {
   "cell_type": "code",
   "execution_count": null,
   "metadata": {},
   "outputs": [],
   "source": [
    "stats_url = 'https://api.planet.com/data/v1/stats'\n",
    "\n",
    "# Specify the sensors/satellites or \"item types\" to include in our results\n",
    "item_types = [\"PSScene3Band\", \"REOrthoTile\"]\n",
    "\n",
    "# Create filter object for all imagery captured between 2013-01-01 and present.\n",
    "date_filter = {\n",
    "    \"type\": \"DateRangeFilter\", # Type of filter -> Date Range\n",
    "    \"field_name\": \"acquired\", # The field to filter on: \"acquired\" -> Date on which the \"image was taken\"\n",
    "    \"config\": {\n",
    "        \"gte\": \"2013-01-01T00:00:00.000Z\", # \"gte\" -> Greater than or equal to\n",
    "    }\n",
    "}"
   ]
  },
  {
   "cell_type": "markdown",
   "metadata": {},
   "source": [
    "\n",
    "\n",
    "Depending on the filter type, some requests may need an interval field:\n",
    "\n",
    "The following intervals are possible:\n",
    "\n",
    "  * year\n",
    "  * month\n",
    "  * week\n",
    "  * day\n",
    "  * hour\n",
    "\n",
    "An interval must be provided with the request so that the number of matching items can be aggregated. We'll use an interval with our date filter.  In this case, we'll get the number of `PSScene3Band` + `REOrthoTile` scenes acquired each year from 2013 to present.\n",
    "\n",
    "Now let's perform our request using the date_filter filter we created above:\n"
   ]
  },
  {
   "cell_type": "code",
   "execution_count": null,
   "metadata": {},
   "outputs": [],
   "source": [
    "# Construct the request.\n",
    "request = {\n",
    "    \"item_types\" : item_types,\n",
    "    \"interval\" : \"year\",\n",
    "    \"filter\" : date_filter\n",
    "}\n",
    "\n",
    "# Send the POST request to the API stats endpoint\n",
    "res = session.post(stats_url, json=request)\n",
    "\n",
    "# Print response\n",
    "pprint(res.json())"
   ]
  },
  {
   "cell_type": "markdown",
   "metadata": {},
   "source": [
    "Good Job! You've received a response from the API that contains some statistics like item counts for the search criteria!"
   ]
  },
  {
   "cell_type": "markdown",
   "metadata": {},
   "source": [
    "<div class=\"alert alert-info\">\n",
    "\n",
    "**Exercise:** Create a new date filter to find data from before 2013.\n",
    "\n",
    "</div>"
   ]
  },
  {
   "cell_type": "code",
   "execution_count": null,
   "metadata": {},
   "outputs": [],
   "source": [
    "# Fill in this filter to complete the exercise! \n",
    "date_filter2 = {\n",
    "}\n",
    "\n",
    "request = {\n",
    "    \"item_types\" : item_types,\n",
    "    \"interval\" : \"year\",\n",
    "    \"filter\" : date_filter\n",
    "}\n",
    "\n",
    "res = session.post(stats_url, json=request)\n",
    "pprint(res.json())"
   ]
  },
  {
   "cell_type": "markdown",
   "metadata": {},
   "source": [
    "---\n",
    "\n",
    "Next, let's take a closer look at some of the available filters:\n",
    "\n",
    "## Filter types\n",
    "\n",
    "The Planet Data API supports several filter types. The most common are the following:\n",
    "\n",
    "### Field Filters\n",
    "\n",
    "* `DateRangeFilter`\n",
    "* `RangeFilter`\n",
    "* `StringInFilter`\n",
    "* `PermissionFilter`\n",
    "* `GeometryFilter`\n",
    "\n",
    "### Logical Filters\n",
    "\n",
    "* `NotFilter`\n",
    "* `AndFilter`\n",
    "* `OrFilter`\n",
    "\n",
    "More information and examples on filter types can be found at the [API Docs](https://www.planet.com/docs/reference/data-api/search-api/). \n",
    "\n",
    "---\n",
    "\n",
    "## (Field) Filter Type examples:"
   ]
  },
  {
   "cell_type": "markdown",
   "metadata": {},
   "source": [
    "#### `DateRangeFilter`\n",
    "\n",
    "Find imagery that was `acquired` or `published` before, after or between certain dates.\n",
    "\n",
    "```\n",
    "{\n",
    "  \"type\": \"DateRangeFilter\",\n",
    "  \"field_name\": \"acquired\",\n",
    "  \"config\": {\n",
    "    \"gt\": \"2016-01-01T00:00:00Z\",\n",
    "    \"lte\": \"2016-03-01T00:00:00Z\"\n",
    "  }\n",
    "}\n",
    "```\n",
    "\n",
    "The upper or lower bound may be omitted."
   ]
  },
  {
   "cell_type": "markdown",
   "metadata": {},
   "source": [
    "#### `RangeFilter`\n",
    "\n",
    "Find imagery that has a metadata that matches a number within a range of numbers.\n",
    "\n",
    "```\n",
    "{\n",
    "  \"type\": \"RangeFilter\",\n",
    "  \"field_name\": \"cloud_cover\",\n",
    "  \"config\": {\n",
    "    \"lt\": 0.2,\n",
    "    \"gt\": 0.1\n",
    "  }\n",
    "}\n",
    "```"
   ]
  },
  {
   "cell_type": "markdown",
   "metadata": {},
   "source": [
    "The following **operators** are supported by the Data API's `DateRangeFilter` and `RangeFilter`:\n",
    "* `gt`: Greater Than\n",
    "* `gte`: Greater Than or Equal To\n",
    "* `lt`: Less Than\n",
    "* `lte`: Less Than or Equal To"
   ]
  },
  {
   "cell_type": "markdown",
   "metadata": {},
   "source": [
    "#### `StringInFilter`\n",
    "\n",
    "Find imagery that has a metadata that matches a string within the array of provided strings.\n",
    "\n",
    "\n",
    "```\n",
    "{\n",
    "  \"type\": \"StringInFilter\",\n",
    "  \"field_name\": \"instrument\",\n",
    "  \"config\": [\"PS2\"]\n",
    "}\n",
    "```"
   ]
  },
  {
   "cell_type": "markdown",
   "metadata": {},
   "source": [
    "#### `PermissionFilter`\n",
    "\n",
    "Find data which has assets that are accessible by the user.\n",
    "\n",
    "```\n",
    "{\n",
    "  \"type\": \"PermissionFilter\",\n",
    "  \"config\": [\"assets.analytic:download\"]\n",
    "}\n",
    "```\n",
    "\n",
    "***Note:*** `assets:download` means *any* downloadable asset."
   ]
  },
  {
   "cell_type": "markdown",
   "metadata": {},
   "source": [
    "#### `GeometryFilter`\n",
    "\n",
    "Find data contained within a given geometry. The filter's config value may be any valid GeoJSON object.\n",
    "\n",
    "```\n",
    "{\n",
    "  \"type\": \"GeometryFilter\",\n",
    "  \"field_name\": \"geometry\",\n",
    "  \"config\": {\n",
    "    \"type\": \"Polygon\",\n",
    "    \"coordinates\": [\n",
    "      [\n",
    "        [\n",
    "          -120.27282714843749,\n",
    "          38.348118547988065\n",
    "        ],\n",
    "        [\n",
    "          -120.27282714843749,\n",
    "          38.74337300148126\n",
    "        ],\n",
    "        [\n",
    "          -119.761962890625,\n",
    "          38.74337300148126\n",
    "        ],\n",
    "        [\n",
    "          -119.761962890625,\n",
    "          38.348118547988065\n",
    "        ],\n",
    "        [\n",
    "          -120.27282714843749,\n",
    "          38.348118547988065\n",
    "        ]\n",
    "      ]\n",
    "    ]\n",
    "  }\n",
    "}\n",
    "```\n",
    "\n",
    "A few quick ways to get a GeoJSON geometry to use in your search:\n",
    "\n",
    "* Draw an Area of Interst (AOI) in [Planet Explorer](http://planet.com/explorer), and use the API button to see the geometry filter config.\n",
    "* Use your favorite GIS tools like [Quantum GIS (QGIS)](http://www.qgis.org) and export GeoJSON.\n",
    "* Draw a polygon in [GeoJSON.io](http://geojson.io).\n",
    "\n",
    "Make sure the `config` property in the geometry filter is in the right format, which should be similar to a `feature.geometry` property in a GeoJSON object. "
   ]
  },
  {
   "cell_type": "markdown",
   "metadata": {},
   "source": [
    "---\n",
    "\n",
    "Let's try a few more requests and get some more stats, this time using different filters:"
   ]
  },
  {
   "cell_type": "code",
   "execution_count": null,
   "metadata": {},
   "outputs": [],
   "source": [
    "# Search for imagery only from PlanetScope satellites that have a PS2 telescope (a.k.a \"Dove classic\")\n",
    "\n",
    "# Setup item types\n",
    "item_types = [\"PSScene3Band\"]\n",
    "\n",
    "# Setup a filter for instrument type\n",
    "instrument_filter = {\n",
    "    \"type\": \"StringInFilter\",\n",
    "    \"field_name\": \"instrument\",\n",
    "    \"config\": [\"PS2\"]\n",
    "}\n",
    "\n",
    "# Setup the request\n",
    "request = {\n",
    "    \"item_types\" : item_types,\n",
    "    \"interval\" : \"year\",\n",
    "    \"filter\" : instrument_filter\n",
    "}\n",
    "\n",
    "# Send the POST request to the API stats endpoint\n",
    "res = session.post(stats_url, json=request)\n",
    "\n",
    "pprint(res.json())"
   ]
  },
  {
   "cell_type": "markdown",
   "metadata": {},
   "source": [
    "<div class=\"alert alert-info\">\n",
    "\n",
    "**Exercise:** Create a new filter that finds all data from PS2.SD (aka Dove-R) telescopes.\n",
    "\n",
    "</div>"
   ]
  },
  {
   "cell_type": "code",
   "execution_count": null,
   "metadata": {},
   "outputs": [],
   "source": [
    "# Fill in this filter to complete the exercise! \n",
    "\n",
    "instrument_filter2 = {\n",
    "}\n",
    "request = {\n",
    "    \"item_types\" : item_types,\n",
    "    \"interval\" : \"year\",\n",
    "    \"filter\" : instrument_filter2\n",
    "}\n",
    "\n",
    "# Send the POST request to the API stats endpoint\n",
    "res=session.post(stats_url, json=request)\n",
    "\n",
    "# Print response\n",
    "pprint(res.json())"
   ]
  },
  {
   "cell_type": "markdown",
   "metadata": {},
   "source": [
    "<div class=\"alert alert-info\">\n",
    "\n",
    "**Exercise:** Create a filter that finds all scenes of the specified item types for an AOI and get scene counts per year.\n",
    "\n",
    "</div>\n",
    "\n",
    "For this one, we'll create a custom GeoJSON geometry using http://geojson.io. Draw a small polygon and copy one `feature`."
   ]
  },
  {
   "cell_type": "code",
   "execution_count": null,
   "metadata": {},
   "outputs": [],
   "source": [
    "# Search for imagery that only intersects with 40N, 90W\n",
    "\n",
    "# Setup GeoJSON (use your aoi or this one if you want to skip drawing an AOI)\n",
    "geom = {\n",
    "    \"type\": \"Point\",\n",
    "    \"coordinates\": [\n",
    "        -90,\n",
    "         40\n",
    "    ]\n",
    "}\n",
    "\n",
    "# Setup Geometry Filter\n",
    "geometry_filter = {\n",
    "    \"type\": \"GeometryFilter\",\n",
    "    \"field_name\": \"geometry\",\n",
    "    \"config\": \"POINT(-90 40)\" # Hint: Look closer at this value\n",
    "}\n",
    "\n",
    "# Setup the request\n",
    "request = {\n",
    "    \"item_types\" : item_types,\n",
    "    \"filter\" : geometry_filter\n",
    "}\n",
    "\n",
    "# Send the POST request to the API stats endpoint\n",
    "res=session.post(stats_url, json=request)\n",
    "\n",
    "# Print response\n",
    "pprint(res.json())"
   ]
  },
  {
   "cell_type": "markdown",
   "metadata": {},
   "source": [
    "### Complex Queries using Logical Filters\n",
    "\n",
    "Complex queries may require combining field filters using **logical filters** (see Filter Types above).\n",
    "\n",
    "Let's try a complex stats search:"
   ]
  },
  {
   "cell_type": "code",
   "execution_count": null,
   "metadata": {},
   "outputs": [],
   "source": [
    "# Setup an \"AND\" logical filter\n",
    "and_filter = {\n",
    "    \"type\": \"AndFilter\",\n",
    "    \"config\": [instrument_filter, geometry_filter, date_filter]\n",
    "}\n",
    "\n",
    "# Print the logical filter\n",
    "pprint(and_filter)"
   ]
  },
  {
   "cell_type": "code",
   "execution_count": null,
   "metadata": {},
   "outputs": [],
   "source": [
    "# Setup the request\n",
    "request = {\n",
    "    \"item_types\" : item_types,\n",
    "    \"interval\" : \"year\",\n",
    "    \"filter\" : and_filter\n",
    "}\n",
    "\n",
    "# Send the POST request to the API stats endpoint\n",
    "res=session.post(stats_url, json=request)\n",
    "\n",
    "# Print response\n",
    "pprint(res.json())"
   ]
  },
  {
   "cell_type": "markdown",
   "metadata": {},
   "source": [
    "Here's another complex search query example using a \"Not\" logical filter and \"string in\" field filter. Can you tell what it's requesting?"
   ]
  },
  {
   "cell_type": "code",
   "execution_count": null,
   "metadata": {},
   "outputs": [],
   "source": [
    "# Setup Item Types\n",
    "item_types = [\"PSScene4Band\"]\n",
    "\n",
    "# Setup Instrument Filter\n",
    "instrument_filter = {\n",
    "    \"type\": \"StringInFilter\",\n",
    "    \"field_name\": \"instrument\",\n",
    "    \"config\": [\"PS2\"]\n",
    "}\n",
    "\n",
    "# Setup \"not\" Logical Filter\n",
    "not_filter = {\n",
    "    \"type\": \"NotFilter\",\n",
    "    \"config\": instrument_filter\n",
    "}\n",
    "\n",
    "# Setup the request\n",
    "request = {\n",
    "    \"item_types\" : item_types,\n",
    "    \"interval\" : \"year\",\n",
    "    \"filter\" : not_filter\n",
    "}\n",
    "\n",
    "# Send the POST request to the API stats endpoint\n",
    "res=session.post(stats_url, json=request)\n",
    "\n",
    "# Print response\n",
    "pprint(res.json())"
   ]
  },
  {
   "cell_type": "code",
   "execution_count": null,
   "metadata": {},
   "outputs": [],
   "source": []
  }
 ],
 "metadata": {
  "kernelspec": {
   "display_name": "Python 3",
   "language": "python",
   "name": "python3"
  },
  "language_info": {
   "codemirror_mode": {
    "name": "ipython",
    "version": 3
   },
   "file_extension": ".py",
   "mimetype": "text/x-python",
   "name": "python",
   "nbconvert_exporter": "python",
   "pygments_lexer": "ipython3",
   "version": "3.7.4"
  }
 },
 "nbformat": 4,
 "nbformat_minor": 2
}
