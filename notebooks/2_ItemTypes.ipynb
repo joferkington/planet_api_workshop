{
 "cells": [
  {
   "cell_type": "code",
   "execution_count": null,
   "metadata": {},
   "outputs": [],
   "source": [
    "# General setup, as explained earlier\n",
    "import os\n",
    "from pprint import pprint\n",
    "from urllib3.util.retry import Retry\n",
    "\n",
    "import requests\n",
    "from requests.adapters import HTTPAdapter\n",
    "\n",
    "PLANET_API_URL = 'https://api.planet.com/data/v1'\n",
    "\n",
    "def setup_session(api_key=None):\n",
    "    \"\"\"\n",
    "    Initialize a requests.Session that handles Planet api key auth and retries.\n",
    "    \n",
    "    :param str api_key:\n",
    "        A Planet api key. Will be read from the PL_API_KEY env var if not specified.\n",
    "    \n",
    "    :returns requests.Session session:\n",
    "        A Session instance optimized for use with Planet's api.\n",
    "    \"\"\"\n",
    "    if api_key is None:\n",
    "        api_key = os.getenv('PL_API_KEY')\n",
    "\n",
    "    session = requests.Session()\n",
    "    session.auth = (api_key, '')\n",
    "\n",
    "    retries = Retry(total=5,\n",
    "                    backoff_factor=0.2,  \n",
    "                    status_forcelist=[429])\n",
    "\n",
    "    session.mount('https://', HTTPAdapter(max_retries=retries))\n",
    "    return session\n",
    "\n",
    "session = setup_session() # Or pass in an api key if the environment variable isn't set"
   ]
  },
  {
   "cell_type": "markdown",
   "metadata": {},
   "source": [
    "Item-Types Endpoint and Planet Data Structure\n",
    "---------------------------------------------------------------------\n",
    "\n",
    "In our last exercise we used a somewhat random-looking url to demonstrate authentication principles:\n",
    "https://api.planet.com/data/v1/item-types/PSScene4Band/items/20191010_183406_0f28\n",
    "\n",
    "That url uses the `item-types/` endpoint of the data API to request information about a scene. Let's take a closer look at what the url actually returns:"
   ]
  },
  {
   "cell_type": "code",
   "execution_count": null,
   "metadata": {},
   "outputs": [],
   "source": [
    "url = 'https://api.planet.com/data/v1/item-types/PSScene4Band/items/20191010_183406_0f28'\n",
    "\n",
    "# Going to cheat a bit and just assume the request will work...\n",
    "info = session.get(url).json()\n",
    "\n",
    "pprint(info)"
   ]
  },
  {
   "cell_type": "markdown",
   "metadata": {},
   "source": [
    "This is all of the metadata for this scene in our API.  The docs for this API endpoint are: https://developers.planet.com/docs/api/items-assets/\n",
    "\n",
    "Let's start out with the fun stuff -- We'll grab the thumbnail for the scene and display it:"
   ]
  },
  {
   "cell_type": "code",
   "execution_count": null,
   "metadata": {},
   "outputs": [],
   "source": [
    "from IPython.display import Image\n",
    "Image(session.get(info['_links']['thumbnail']).content)"
   ]
  },
  {
   "cell_type": "markdown",
   "metadata": {},
   "source": [
    "Different Item Types\n",
    "------------------------------\n",
    "\n",
    "This is a good place for a bit of a refresher on a couple of key concepts for Planet data.  We have multiple different item types.  \n",
    "\n",
    "You can see which item-types you have access to by requesting the root `item-types` endpoint:"
   ]
  },
  {
   "cell_type": "code",
   "execution_count": null,
   "metadata": {},
   "outputs": [],
   "source": [
    "pprint(session.get('https://api.planet.com/data/v1/item-types/').json())"
   ]
  },
  {
   "cell_type": "markdown",
   "metadata": {},
   "source": [
    "Most of these represent data from different satellites, but for many of our satellites, the same imagery may be exposed as different itemtypes.  For example, for Planetscope, the same underlying data can be represented as `PSScene4Band`, `PSScene3Band`, and `PSOrthoTile` item types.\n",
    "\n",
    "The key for this is really geometry. If a representation of the data has a different outline, it must be repesented as a different item type even when it is from the same satellite.  To demonstrate this more concretely, let's compare the `PSScene3Band` and `PSScene4Band` geometries for the same scene:"
   ]
  },
  {
   "cell_type": "code",
   "execution_count": null,
   "metadata": {},
   "outputs": [],
   "source": [
    "def get_info(itemtype, sceneid):\n",
    "    url = '{}/item-types/{}/items/{}'.format(PLANET_API_URL, itemtype, sceneid)\n",
    "    response = session.get(url)\n",
    "    response.raise_for_status()\n",
    "    return response.json()\n",
    "    \n",
    "\n",
    "scene = '20191010_183406_0f28'\n",
    "info_4band = get_info('PSScene4Band', scene)\n",
    "info_3band = get_info('PSScene3Band', scene)\n",
    "\n",
    "print('PSScene4Band Geometry')\n",
    "pprint(info_4band['geometry'])\n",
    "\n",
    "print('\\nPSScene3Band Geometry')\n",
    "pprint(info_3band['geometry'])"
   ]
  },
  {
   "cell_type": "markdown",
   "metadata": {},
   "source": [
    "Notice that the footprints for the same sceneid are slightly different between the two different item types.  The `PSScene4Band` version has a more complex outline (small \"stair steps\") and is a tiny bit smaller. The differences in area are quite small in this case, but it's not uncommon to see 4-band imagery for a scene be much smaller than 3-band imagery.  This is because our satellites don't actually collect 4-band imagery directly.  The NIR band comes from a different scene taken a second or so later.  Only the pixels that have overlapping NIR data from other scenes can be used. \n",
    "\n",
    "Let's display the footprints to compare:"
   ]
  },
  {
   "cell_type": "code",
   "execution_count": null,
   "metadata": {},
   "outputs": [],
   "source": [
    "import json\n",
    "import geojsonio\n",
    "\n",
    "data = {'type': 'FeatureCollection',\n",
    "        'features': [info_3band, info_4band]\n",
    "       }\n",
    "geojsonio.display(json.dumps(data))"
   ]
  },
  {
   "cell_type": "markdown",
   "metadata": {},
   "source": [
    "Okay, yeah, the differences are really subtle there, but let's look at a more extreme example:"
   ]
  },
  {
   "cell_type": "code",
   "execution_count": null,
   "metadata": {},
   "outputs": [],
   "source": [
    "# Coastal scenes tend to have larger differences\n",
    "reef_scene = '20191004_192044_0f33'\n",
    "data = {'type': 'FeatureCollection',\n",
    "        'features': [get_info('PSScene4Band', reef_scene),\n",
    "                     get_info('PSScene3Band', reef_scene)]\n",
    "       }\n",
    "geojsonio.display(json.dumps(data))"
   ]
  },
  {
   "cell_type": "markdown",
   "metadata": {},
   "source": [
    "Scene Metadata\n",
    "------------------------\n",
    "You may recall that our earlier request for a scene's metadata returned quite a bit of information under the `properties` key:"
   ]
  },
  {
   "cell_type": "code",
   "execution_count": null,
   "metadata": {},
   "outputs": [],
   "source": [
    "info = get_info('PSScene4Band', scene)\n",
    "\n",
    "pprint(info['properties'])"
   ]
  },
  {
   "cell_type": "markdown",
   "metadata": {},
   "source": [
    "Let's take a quick look at what these metadata fields in `properties` are.  Note that each item type has a different set of metadata.  There are detail docs for each item type at https://developers.planet.com, e.g.:\n",
    "\n",
    "https://developers.planet.com/docs/api/psscene3band/\n",
    "\n",
    "|Property Name|Description|Type|\n",
    "|:--- |:--- |:--- |\n",
    "|id|Globally unique item identifier.|string|\n",
    "|_permissions|The permissions that the authenticated user has to the item.|array|\n",
    "|item_type|Name of the item type.|string|\n",
    "|provider|Name of the item provider (e.g. “planetscope”, ”rapideye”).|string|\n",
    "|satellite_id|Globally unique satellite identifier.|string|\n",
    "|instrument|Name of the satellite instrument used to collect the image.|string|\n",
    "|strip_id|The unique identifier of the image stripe that the item came from.|string|\n",
    "|geometry|Geographic boundary, formatted as a GeoJSON polygon.|json|\n",
    "|cloud_cover|Average percentage of cloud coverage.|double|\n",
    "|gsd|Ground sample distance - the distance between pixel centers as measured on the ground in meters.|double|\n",
    "|pixel_resolution|Pixel resolution of the imagery in meters.|double|\n",
    "|epsg_code|Ortho tile grid cell that the item is located in (not used if Scene).|integer|\n",
    "|sun_azimuth|The angle of the sun, as seen by the observer, measured clockwise from the north (0 - 360).|double|\n",
    "|sun_elevation|The angle of the sun above the horizon (0 - 90).|double|\n",
    "|view_angle|The satellite's across-track, off-nadir viewing angle. Positive numbers denote east, negative numbers denote west (-25 - +25).|double|\n",
    "|rows|Number of rows in the image.|integer|\n",
    "|columns|Number of columns in the image.|integer|\n",
    "|origin_x|ULX coordinate of the extent of the data. The coordinate references the top left corner of the top left pixel.|double|\n",
    "|origin_y|ULY coordinate of the extent of the data. The coordinate references the top left corner of the top left pixel.|double|\n",
    "|quality_category|Planet image quality metric: Standard or Test. To qualify for \"standard\" image quality an image must meet a variety of quality standards, for example: PAN motion blur less than 1.15 pixels, compression bits per pixel less than 3. If the image does not meet these criteria it is considered \"test\" quality.|string|\n",
    "|anomalous_pixels|Percentage of pixels that may have errors. Represented spatially in the UDM.|double|\n",
    "|usable_data|Percentage of pixels that are usable, subtracting cloud cover and black fill.|double|\n",
    "|ground_control|Positional accuracy of the item. If the item has uncertain positional accuracy, this value will be false.|boolean|\n",
    "|acquired|Timestamp that the item was captured.|datetime|\n",
    "|published|Timestamp that the item was published to the Planet API.|datetime|\n",
    "|updated|Timestamp that the item record was last updated.|datetime|"
   ]
  },
  {
   "cell_type": "markdown",
   "metadata": {},
   "source": [
    "To demonstrate that these vary by ItemType, compare the table above to the metadata for a `SkySatScene`:\n",
    "\n",
    "https://developers.planet.com/docs/api/skysatscene/\n",
    "\n",
    "|Property Name|Description|Type|\n",
    "|:--- |:--- |:--- |\n",
    "|id|Globally unique item identifier.|string|\n",
    "|_permissions|The permissions that the authenticated user has to the item.|array|\n",
    "|item_type|Name of the item type.|string|\n",
    "|provider|Name of the item provider (e.g. “planetscope”, ”rapideye”).|string|\n",
    "|satellite_id|Globally unique satellite identifier.|string|\n",
    "|strip_id|The unique identifier of the image stripe that the item came from.|string|\n",
    "|geometry|Geographic boundary, formatted as a GeoJSON polygon.|json|\n",
    "|cloud_cover|Average percentage of cloud coverage.|double|\n",
    "|gsd|Ground sample distance - the distance between pixel centers as measured on the ground in meters.|double|\n",
    "|sun_azimuth|The angle of the sun, as seen by the observer, measured clockwise from the north (0 - 360).|double|\n",
    "|sun_elevation|The angle of the sun above the horizon (0 - 90).|double|\n",
    "|view_angle|The satellite's across-track, off-nadir viewing angle. Positive numbers denote east, negative numbers denote west (-25 - +25).|double|\n",
    "|ground_control|Positional accuracy of the item. If the item has uncertain positional accuracy, this value will be false.|boolean|\n",
    "|acquired|Timestamp that the item was captured.|datetime|\n",
    "|published|Timestamp that the item was published to the Planet API.|datetime|\n",
    "|updated|Timestamp that the item record was last updated.|datetime|\n"
   ]
  },
  {
   "cell_type": "markdown",
   "metadata": {},
   "source": [
    "In the next section, we'll be filtering and searching based on these metadata fields.  You'll often want to keep the metadata docs for the item type you're working with nearby when using our data API. "
   ]
  },
  {
   "cell_type": "markdown",
   "metadata": {},
   "source": [
    "---\n",
    "\n",
    "Assets\n",
    "----------\n",
    "\n",
    "Assets represent specific files.  These might be different processing levels of the same underlying imagery, or things like XML metadata and/or usable data masks.\n",
    "\n",
    "In \"Planet terms\" you need an item type (e.g. `PSScene4Band`) a scene ID (e.g. `20191010_183406_0f28`) _and_ an asset type (e.g. `analytic_sr`) to uniquely identify the data you're working with.  \n",
    "\n",
    "In other words, the asset is the data you'll actually download.  \n",
    "\n",
    "It's important to note that not all scenes of the same item type will have the same assets.  Some assets are only available under certain conditions.  For example, scenes from satellites that haven't been fully calibrated won't have `analytic` or `analytic_sr` assets, and scenes before mid-2018 generally won't have `udm2` (a.k.a. \"cloud 2.0\") assets.  \n",
    "\n",
    "Let's explore how to check which assets are available for a specific scene (we'll come back to this later):"
   ]
  },
  {
   "cell_type": "code",
   "execution_count": null,
   "metadata": {},
   "outputs": [],
   "source": [
    "# Just repeating what we did earlier as a reminder\n",
    "\n",
    "def get_info(itemtype, sceneid):\n",
    "    url = '{}/item-types/{}/items/{}'.format(PLANET_API_URL, itemtype, sceneid)\n",
    "    response = session.get(url)\n",
    "    response.raise_for_status()\n",
    "    return response.json()\n",
    "    \n",
    "\n",
    "scene = '20191010_183406_0f28'\n",
    "info_4band = get_info('PSScene4Band', scene)\n",
    "\n",
    "# Now let's look at the _links section\n",
    "pprint(info_4band['_links'])"
   ]
  },
  {
   "cell_type": "code",
   "execution_count": null,
   "metadata": {},
   "outputs": [],
   "source": [
    "# And we can make a GET request to the `assets` item:\n",
    "res = session.get(info_4band['_links']['assets'])\n",
    "res.raise_for_status()\n",
    "\n",
    "# The keys in the response are the assets that are available:\n",
    "for key in res.json():\n",
    "    print(key)"
   ]
  },
  {
   "cell_type": "markdown",
   "metadata": {},
   "source": [
    "Each item type has different assets -- e.g. the `analytic_sr` asset currently availabe for `PSScene3Band` items. A detailed description of what these different assets are is available at https://developers.planet.com/docs/api/psscene4band/ \n",
    "\n",
    "|Asset Name|Description|\n",
    "|:--- |:--- |\n",
    "|analytic|Radiometrically calibrated GeoTiff suitable for analytic applications.|\n",
    "|analytic_sr|Atmospherically corrected surface reflectance product.|\n",
    "|analytic_xml|Analytic asset XML metadata file.|\n",
    "|analytic_dn|Non-radiometrically calibrated GeoTiff suitable for analytic applications.|\n",
    "|analytic_dn_xml|Analytic DN asset XML metadata file.|\n",
    "|udm|Unusable Data Mask - Unusable data bit mask in GeoTIFF format for the visual and analytic scene assets.|\n",
    "|basic_analytic|Top of atmosphere radiance (at sensor) and sensor corrected GeoTiff. Scene based framing and not projected to a cartographic projection.|\n",
    "|basic_analytic_xml|Basic analytic asset XML metadata file.|\n",
    "|basic_analytic_rpc|Rational Polynomial Coefficients text file used to orthorectify the basic_analytic asset.|\n",
    "|basic_analytic_dn|Basic sensor corrected scene GeoTiff. Scene based framing and not projected to a cartographic projection.|\n",
    "|basic_analytic_dn_xml|Basic analytic DN asset XML metadata file.|\n",
    "|basic_analytic_dn_rpc|Rational Polynomial Coefficients text file used to orthorectify basic_analytic_dn asset.|\n",
    "|basic_analytic_nitf|Top of atmosphere radiance (at sensor) and sensor corrected in NITF format. Scene based framing and not projected to a cartographic projection.|\n",
    "|basic_analytic_xml_nitf|Basic analytic XML metadata file.|\n",
    "|basic_analytic_rpc_nitf|Rational Polynomial Coefficients text file used to orthorectify the basic_analytic asset.|\n",
    "|basic_analytic_dn_nitf|Basic sensor corrected scene NITF. Scene based framing and not projected to a cartographic projection.|\n",
    "|basic_analytic_dn_xml_nitf|Basic analytic DN XML metadata file.|\n",
    "|basic_analytic_dn_rpc_nitf|Rational Polynomial Coefficients text file used to orthorectify basic_analytic_dn_nitf asset.|\n",
    "|basic_udm|Usable Data Mask - Usable data bit mask in GeoTIFF format for the basic analytic scene assets.|\n",
    "|basic_udm2|Usable Data Mask 2.0. Read more about this new asset here.|"
   ]
  },
  {
   "cell_type": "code",
   "execution_count": null,
   "metadata": {},
   "outputs": [],
   "source": []
  }
 ],
 "metadata": {
  "kernelspec": {
   "display_name": "Python 3",
   "language": "python",
   "name": "python3"
  },
  "language_info": {
   "codemirror_mode": {
    "name": "ipython",
    "version": 3
   },
   "file_extension": ".py",
   "mimetype": "text/x-python",
   "name": "python",
   "nbconvert_exporter": "python",
   "pygments_lexer": "ipython3",
   "version": "3.7.4"
  }
 },
 "nbformat": 4,
 "nbformat_minor": 2
}
