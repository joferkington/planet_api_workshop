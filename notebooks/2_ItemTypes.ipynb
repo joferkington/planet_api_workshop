{
 "cells": [
  {
   "cell_type": "code",
   "execution_count": 12,
   "metadata": {},
   "outputs": [],
   "source": [
    "# General setup, as explained earlier\n",
    "import os\n",
    "from pprint import pprint\n",
    "from urllib3.util.retry import Retry\n",
    "\n",
    "import requests\n",
    "from requests.adapters import HTTPAdapter\n",
    "\n",
    "PLANET_API_KEY = os.getenv('PL_API_KEY')  # Or set it explicitly\n",
    "PLANET_API_URL = 'https://api.planet.com/data/v1'\n",
    "\n",
    "session = requests.Session()\n",
    "session.auth = (PLANET_API_KEY, '')\n",
    "\n",
    "retries = Retry(total=5,\n",
    "                backoff_factor=0.1,  \n",
    "                status_forcelist=[429])\n",
    "\n",
    "session.mount('https://', HTTPAdapter(max_retries=retries))"
   ]
  },
  {
   "cell_type": "markdown",
   "metadata": {},
   "source": [
    "Item-Types Endpoint and Planet Data Structure\n",
    "---------------------------------------------------------------------\n",
    "\n",
    "In our last exercise we used a somewhat random-looking url to demonstrate authentication principles:\n",
    "https://api.planet.com/data/v1/item-types/PSScene4Band/items/20191010_183406_0f28\n",
    "\n",
    "That url uses the `item-types/` endpoint of the data API to request information about a scene. Let's take a closer look at what the url actually returns:"
   ]
  },
  {
   "cell_type": "code",
   "execution_count": 26,
   "metadata": {},
   "outputs": [
    {
     "name": "stdout",
     "output_type": "stream",
     "text": [
      "{'_links': {'_self': 'https://api.planet.com/data/v1/item-types/PSScene4Band/items/20191010_183406_0f28',\n",
      "            'assets': 'https://api.planet.com/data/v1/item-types/PSScene4Band/items/20191010_183406_0f28/assets/',\n",
      "            'thumbnail': 'https://tiles.planet.com/data/v1/item-types/PSScene4Band/items/20191010_183406_0f28/thumb'},\n",
      " '_permissions': ['assets.basic_analytic_rpc_nitf:download',\n",
      "                  'assets.udm2:download',\n",
      "                  'assets.analytic_xml:download',\n",
      "                  'assets.basic_analytic_dn:download',\n",
      "                  'assets.basic_analytic_dn_xml_nitf:download',\n",
      "                  'assets.basic_analytic_dn_nitf:download',\n",
      "                  'assets.basic_analytic_xml:download',\n",
      "                  'assets.basic_analytic_nitf:download',\n",
      "                  'assets.basic_analytic_rpc:download',\n",
      "                  'assets.analytic_dn:download',\n",
      "                  'assets.basic_udm:download',\n",
      "                  'assets.basic_analytic_dn_rpc_nitf:download',\n",
      "                  'assets.analytic:download',\n",
      "                  'assets.analytic_dn_xml:download',\n",
      "                  'assets.analytic_sr:download',\n",
      "                  'assets.basic_analytic_dn_xml:download',\n",
      "                  'assets.basic_udm2:download',\n",
      "                  'assets.basic_analytic_dn_rpc:download',\n",
      "                  'assets.basic_analytic_xml_nitf:download',\n",
      "                  'assets.basic_analytic:download',\n",
      "                  'assets.udm:download'],\n",
      " 'geometry': {'coordinates': [[[-122.4463534576134, 37.767959793129485],\n",
      "                               [-122.43053798540043, 37.827425572894505],\n",
      "                               [-122.14691934407396, 37.77931677925563],\n",
      "                               [-122.1498061812017, 37.76873322615015],\n",
      "                               [-122.14956566784808, 37.768692786563136],\n",
      "                               [-122.15679131035827, 37.74152641224751],\n",
      "                               [-122.16615202075121, 37.70722807629772],\n",
      "                               [-122.44971126634209, 37.75496574134499],\n",
      "                               [-122.4463534576134, 37.767959793129485]]],\n",
      "              'type': 'Polygon'},\n",
      " 'id': '20191010_183406_0f28',\n",
      " 'properties': {'acquired': '2019-10-10T18:34:06.289903Z',\n",
      "                'anomalous_pixels': 0,\n",
      "                'clear_confidence_percent': 96,\n",
      "                'clear_percent': 100,\n",
      "                'cloud_cover': 0.02,\n",
      "                'cloud_percent': 0,\n",
      "                'columns': 8884,\n",
      "                'epsg_code': 32610,\n",
      "                'ground_control': True,\n",
      "                'gsd': 3.9,\n",
      "                'heavy_haze_percent': 0,\n",
      "                'instrument': 'PS2',\n",
      "                'item_type': 'PSScene4Band',\n",
      "                'light_haze_percent': 0,\n",
      "                'origin_x': 548472,\n",
      "                'origin_y': 4186821,\n",
      "                'pixel_resolution': 3,\n",
      "                'provider': 'planetscope',\n",
      "                'published': '2019-10-11T08:13:19Z',\n",
      "                'quality_category': 'standard',\n",
      "                'rows': 4388,\n",
      "                'satellite_id': '0f28',\n",
      "                'shadow_percent': 0,\n",
      "                'snow_ice_percent': 0,\n",
      "                'strip_id': '2740797',\n",
      "                'sun_azimuth': 152.7,\n",
      "                'sun_elevation': 41.8,\n",
      "                'updated': '2019-10-11T08:18:51Z',\n",
      "                'view_angle': 4,\n",
      "                'visible_confidence_percent': 80,\n",
      "                'visible_percent': 100},\n",
      " 'type': 'Feature'}\n"
     ]
    }
   ],
   "source": [
    "url = 'https://api.planet.com/data/v1/item-types/PSScene4Band/items/20191010_183406_0f28'\n",
    "\n",
    "# Going to cheat a bit and just assume the request will work...\n",
    "info = session.get(url).json()\n",
    "\n",
    "pprint(info)"
   ]
  },
  {
   "cell_type": "markdown",
   "metadata": {},
   "source": [
    "This is all of the metadata for this scene in our API.  The docs for this API endpoint are: https://developers.planet.com/docs/api/items-assets/\n",
    "\n",
    "Let's start out with the fun stuff -- We'll grab the thumbnail for the scene and display it:"
   ]
  },
  {
   "cell_type": "code",
   "execution_count": 7,
   "metadata": {},
   "outputs": [
    {
     "data": {
      "image/png": "[encoded data removed]",
      "text/plain": [
       "<IPython.core.display.Image object>"
      ]
     },
     "execution_count": 7,
     "metadata": {},
     "output_type": "execute_result"
    }
   ],
   "source": [
    "from IPython.display import Image\n",
    "Image(session.get(info['_links']['thumbnail']).content)"
   ]
  },
  {
   "cell_type": "markdown",
   "metadata": {},
   "source": [
    "Different Item Types\n",
    "------------------------------\n",
    "\n",
    "This is a good place for a bit of a refresher on a couple of key concepts for Planet data.  We have multiple different item types:\n",
    "\n",
    "|Available Item Types|Description|\n",
    "|:--- |:--- |\n",
    "|PSScene3Band|PlanetScope 3 band scenes (red, green, blue) captured by the Dove satellite constellation|\n",
    "|PSScene4Band|PlanetScope 4 band scenes (red, green, blue, near-infrared) captured by the Dove satellite constellation|\n",
    "|PSOrthoTile|PlanetScope ortho tiles captured by the Dove satellite constellation|\n",
    "|REOrthoTile|RapidEye OrthoTiles captured by the RapidEye satellite constellation|\n",
    "|REScene|Unorthorectified strips captured by the RapidEye satellite constellation|\n",
    "|SkySatScene|SkySat Scenes captured by the SkySat satellite constellation|\n",
    "|SkySatCollect|Orthorectified scene composite of a SkySat ccollection|\n",
    "|Landsat8L1G|Landsat8 Scenes provided by USGS Landsat8 satellite|\n",
    "|Sentinel2L1C|Copernicus Sentinel-2  Scenes provided by ESA Sentinel-2 satellite|\n",
    "\n",
    "Most of these represent data from different satellites, but for many of our satellites, the same imagery may be exposed as different itemtypes.  For example, for Planetscope, the same underlying data can be \n",
    "\n",
    "The key for this is really geometry. If a representation of the data has a different outline\n"
   ]
  },
  {
   "cell_type": "code",
   "execution_count": 29,
   "metadata": {},
   "outputs": [
    {
     "name": "stdout",
     "output_type": "stream",
     "text": [
      "PSScene4Band Geometry\n",
      "{'coordinates': [[[-122.4463534576134, 37.767959793129485],\n",
      "                  [-122.43053798540043, 37.827425572894505],\n",
      "                  [-122.14691934407396, 37.77931677925563],\n",
      "                  [-122.1498061812017, 37.76873322615015],\n",
      "                  [-122.14956566784808, 37.768692786563136],\n",
      "                  [-122.15679131035827, 37.74152641224751],\n",
      "                  [-122.16615202075121, 37.70722807629772],\n",
      "                  [-122.44971126634209, 37.75496574134499],\n",
      "                  [-122.4463534576134, 37.767959793129485]]],\n",
      " 'type': 'Polygon'}\n",
      "\n",
      "PSScene3Band Geometry\n",
      "{'coordinates': [[[-122.4305381111425, 37.82742561824226],\n",
      "                  [-122.44980510239566, 37.754981875600706],\n",
      "                  [-122.16592410552973, 37.70718978111152],\n",
      "                  [-122.1467511467239, 37.77928490053915],\n",
      "                  [-122.4305381111425, 37.82742561824226]]],\n",
      " 'type': 'Polygon'}\n"
     ]
    }
   ],
   "source": [
    "def get_info(itemtype, sceneid):\n",
    "    url = '{}/item-types/{}/items/{}'.format(PLANET_API_URL, itemtype, sceneid)\n",
    "    response = session.get(url)\n",
    "    response.raise_for_status()\n",
    "    return response.json()\n",
    "    \n",
    "\n",
    "scene = '20191010_183406_0f28'\n",
    "info_4band = get_info('PSScene4Band', scene)\n",
    "info_3band = get_info('PSScene3Band', scene)\n",
    "\n",
    "print('PSScene4Band Geometry')\n",
    "pprint(info_4band['geometry'])\n",
    "\n",
    "print('\\nPSScene3Band Geometry')\n",
    "pprint(info_3band['geometry'])"
   ]
  },
  {
   "cell_type": "markdown",
   "metadata": {},
   "source": [
    "Notice that the footprints for the same sceneid are slightly different between the two different item types.  The `PSScene4Band` version has a more complex outline (small \"stair steps\") and is a tiny bit smaller. The differences in area are quite small in this case, but it's not uncommon to see 4-band imagery for a scene be much smaller than 3-band imagery.  This is because our satellites don't actually collect 4-band imagery directly.  The NIR band comes from a different scene taken a second or so later.  Only the pixels that have overlapping NIR data from other scenes can be used. \n",
    "\n",
    "This is one of the many reasons we have "
   ]
  },
  {
   "cell_type": "markdown",
   "metadata": {},
   "source": [
    "Let's take a quick look at what these metadata fields are.  Note that each ItemType has a different set of metadata.  \n",
    "\n",
    "https://developers.planet.com/docs/api/psscene3band/\n",
    "\n",
    "|Property Name|Description|Type|\n",
    "|:--- |:--- |:--- |\n",
    "|id|Globally unique item identifier.|string|\n",
    "|_permissions|The permissions that the authenticated user has to the item.|array|\n",
    "|item_type|Name of the item type.|string|\n",
    "|provider|Name of the item provider (e.g. “planetscope”, ”rapideye”).|string|\n",
    "|satellite_id|Globally unique satellite identifier.|string|\n",
    "|instrument|Name of the satellite instrument used to collect the image.|string|\n",
    "|strip_id|The unique identifier of the image stripe that the item came from.|string|\n",
    "|geometry|Geographic boundary, formatted as a GeoJSON polygon.|json|\n",
    "|cloud_cover|Average percentage of cloud coverage.|double|\n",
    "|gsd|Ground sample distance - the distance between pixel centers as measured on the ground in meters.|double|\n",
    "|pixel_resolution|Pixel resolution of the imagery in meters.|double|\n",
    "|epsg_code|Ortho tile grid cell that the item is located in (not used if Scene).|integer|\n",
    "|sun_azimuth|The angle of the sun, as seen by the observer, measured clockwise from the north (0 - 360).|double|\n",
    "|sun_elevation|The angle of the sun above the horizon (0 - 90).|double|\n",
    "|view_angle|The satellite's across-track, off-nadir viewing angle. Positive numbers denote east, negative numbers denote west (-25 - +25).|double|\n",
    "|rows|Number of rows in the image.|integer|\n",
    "|columns|Number of columns in the image.|integer|\n",
    "|origin_x|ULX coordinate of the extent of the data. The coordinate references the top left corner of the top left pixel.|double|\n",
    "|origin_y|ULY coordinate of the extent of the data. The coordinate references the top left corner of the top left pixel.|double|\n",
    "|quality_category|Planet image quality metric: Standard or Test. To qualify for \"standard\" image quality an image must meet a variety of quality standards, for example: PAN motion blur less than 1.15 pixels, compression bits per pixel less than 3. If the image does not meet these criteria it is considered \"test\" quality.|string|\n",
    "|anomalous_pixels|Percentage of pixels that may have errors. Represented spatially in the UDM.|double|\n",
    "|usable_data|Percentage of pixels that are usable, subtracting cloud cover and black fill.|double|\n",
    "|ground_control|Positional accuracy of the item. If the item has uncertain positional accuracy, this value will be false.|boolean|\n",
    "|acquired|Timestamp that the item was captured.|datetime|\n",
    "|published|Timestamp that the item was published to the Planet API.|datetime|\n",
    "|updated|Timestamp that the item record was last updated.|datetime|\n"
   ]
  }
 ],
 "metadata": {
  "kernelspec": {
   "display_name": "Python 3",
   "language": "python",
   "name": "python3"
  },
  "language_info": {
   "codemirror_mode": {
    "name": "ipython",
    "version": 3
   },
   "file_extension": ".py",
   "mimetype": "text/x-python",
   "name": "python",
   "nbconvert_exporter": "python",
   "pygments_lexer": "ipython3",
   "version": "3.7.4"
  }
 },
 "nbformat": 4,
 "nbformat_minor": 2
}
