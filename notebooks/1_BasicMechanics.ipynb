{
 "cells": [
  {
   "cell_type": "markdown",
   "metadata": {},
   "source": [
    "Basic Mechanics\n",
    "-------------------------\n",
    "\n",
    "Let's get an overivew of how authentication/etc work with Planet's library and set the groundwork for how we're going to interact with the Planet Data API.\n",
    "\n",
    "Note that we're trying to stay relatively language agnostic, so we're still going to build things up mostly from scratch.  We'll make use of Python's standard library functionality and we'll use the `requests` library to simplify communicating with the api a bit.  We're not going to focus heavily on Planet's Python client library or other high-level ways of accessing the data.  Our goal here is to explore and understand the underlying REST api.\n",
    "\n",
    "To start with, let's make a request against the top-level endpoint for the Planet data api. It returns some information about the api and doesn't require authentication (we'll cover that soon).\n"
   ]
  },
  {
   "cell_type": "code",
   "execution_count": null,
   "metadata": {},
   "outputs": [],
   "source": [
    "# Just for nicer display of response dicts -- This is a standard library module\n",
    "from pprint import pprint  \n",
    "\n",
    "# Not part of the standard library, but makes life much easier when working with http APIs\n",
    "import requests\n",
    "\n",
    "# Let's do this properly and raise an exception if we don't get a 200 (ok) response code\n",
    "response = requests.get('https://api.planet.com/data/v1')\n",
    "response.raise_for_status()\n",
    "body = response.json()\n",
    "\n",
    "# Nicer display than a bare print\n",
    "pprint(body) "
   ]
  },
  {
   "cell_type": "markdown",
   "metadata": {},
   "source": [
    "Authentication\n",
    "----------------------\n",
    "\n",
    "Planet's APIs handle authentication primarily through API keys. It's a bit more secure than using your username and password, as the key only has access to our api (and not, say, deleting your account).  \n",
    "\n",
    "You can find your api key by logging in to https://www.planet.com/account  You should already have had an account created for you as part of the workshop signup.  Your account will have access to a variety of data in California for the next month.\n",
    "\n",
    "The python client reads from the `PL_API_KEY` environment variable if it exists. We'll read the api key from that env variable rather than hard-coding it in these exercises.  Let's go ahead and set that now:\n"
   ]
  },
  {
   "cell_type": "code",
   "execution_count": null,
   "metadata": {},
   "outputs": [],
   "source": [
    "import os\n",
    "\n",
    "# If you're following along with this notebook, you can enter your API Key on the following line, and uncomment it:\n",
    "#os.environ['PL_API_KEY'] = \"YOUR API KEY HERE\"\n",
    "\n",
    "# Setup the API Key from the `PL_API_KEY` environment variable\n",
    "PLANET_API_KEY = os.getenv('PL_API_KEY')\n",
    "assert PLANET_API_KEY is not None, 'PL_API_KEY not found'"
   ]
  },
  {
   "cell_type": "markdown",
   "metadata": {},
   "source": [
    "To start with, let's look at what happens when we don't authenticate:"
   ]
  },
  {
   "cell_type": "code",
   "execution_count": null,
   "metadata": {},
   "outputs": [],
   "source": [
    "# We'll explain this url later -- This is just a demo of something you can't access without auth\n",
    "scene_url = 'https://api.planet.com/data/v1/item-types/PSScene4Band/items/20191010_183406_0f28'\n",
    "\n",
    "response = requests.get(scene_url)\n",
    "response.raise_for_status()"
   ]
  },
  {
   "cell_type": "markdown",
   "metadata": {},
   "source": [
    "You can use your api key to authenticate through basic http authentication:"
   ]
  },
  {
   "cell_type": "code",
   "execution_count": null,
   "metadata": {},
   "outputs": [],
   "source": [
    "# Basic auth for our API expects api key as the username and no password\n",
    "response = requests.get(scene_url, auth=(PLANET_API_KEY, ''))\n",
    "response.raise_for_status()"
   ]
  },
  {
   "cell_type": "markdown",
   "metadata": {},
   "source": [
    "We can also use a session in the `requests` library that will store our auth and use it for all requests:"
   ]
  },
  {
   "cell_type": "code",
   "execution_count": null,
   "metadata": {},
   "outputs": [],
   "source": [
    "session = requests.Session()\n",
    "session.auth = (PLANET_API_KEY, '')\n",
    "\n",
    "response = session.get(scene_url)\n",
    "response.raise_for_status()"
   ]
  },
  {
   "cell_type": "markdown",
   "metadata": {},
   "source": [
    "Rate Limiting and Retries\n",
    "--------------------------------------\n",
    "\n",
    "Planet's services limit the number of requests you can make in a short amount of time to avoid unintentional and intentional denial of service attacks.  A 429 response code indicates that the service won't deliver results until you slow down.\n",
    "\n",
    "As an example, let's do something that will trigger a \"slow down\" response (429):"
   ]
  },
  {
   "cell_type": "code",
   "execution_count": null,
   "metadata": {},
   "outputs": [],
   "source": [
    "# We'll use multiple threads to really hammer things... Otherwise it's unlikely to trigger.\n",
    "from concurrent.futures import ThreadPoolExecutor\n",
    "\n",
    "def make_request(ignored):\n",
    "    requests.get(scene_url, auth=(PLANET_API_KEY, '')).raise_for_status()\n",
    "    \n",
    "nthreads = 8\n",
    "with ThreadPoolExecutor(nthreads) as executor:\n",
    "    for _ in executor.map(make_request, range(100)):\n",
    "        pass"
   ]
  },
  {
   "cell_type": "markdown",
   "metadata": {},
   "source": [
    "We ask that you follow an exponential backoff pattern when this occurs -- E.g. on the first occurence, wait `n` seconds, on the second `n**2` seconds, on the third `n**3`, etc.\n",
    "\n",
    "I'm sure a lot of you have probably implemented similar retry functionality or have a library you often use to do so.  There are also methods for this in our python client.\n",
    "\n",
    "However, to keep with the spirit of staying relatively low-level and using widely available tools, we'll set up the `requests` library to do this for us."
   ]
  },
  {
   "cell_type": "code",
   "execution_count": null,
   "metadata": {},
   "outputs": [],
   "source": [
    "import requests\n",
    "from urllib3.util.retry import Retry\n",
    "from requests.adapters import HTTPAdapter\n",
    "\n",
    "session = requests.Session()\n",
    "session.auth = (PLANET_API_KEY, '')\n",
    "\n",
    "retries = Retry(total=5,\n",
    "                backoff_factor=0.2, # Exponential backoff scaled by 0.2\n",
    "                status_forcelist=[429]) # In practice, you may want other codes there too, e.g. 500s...\n",
    "\n",
    "session.mount('https://', HTTPAdapter(max_retries=retries))"
   ]
  },
  {
   "cell_type": "markdown",
   "metadata": {},
   "source": [
    "And just to demonstrate that we can now hammer the service in parallel and properly back off and retry when it asks us to:"
   ]
  },
  {
   "cell_type": "code",
   "execution_count": null,
   "metadata": {},
   "outputs": [],
   "source": [
    "def make_request(ignored):\n",
    "    # Note that we're using the session we set up above\n",
    "    session.get(scene_url, auth=(PLANET_API_KEY, '')).raise_for_status()\n",
    "    \n",
    "nthreads = 8\n",
    "with ThreadPoolExecutor(nthreads) as executor:\n",
    "    for _ in executor.map(make_request, range(100)):\n",
    "        pass"
   ]
  },
  {
   "cell_type": "markdown",
   "metadata": {},
   "source": [
    "Setup for Future Exercises\n",
    "----------------------------------------\n",
    "\n",
    "Taking what we've just walked through, we'll use the following as a bit of boilerplate to set up our later exercises.  For actual use cases, you can see how this could form the start of an `APIClient` class. We're going to keep things as mininimal as possible in this tutorial, though."
   ]
  },
  {
   "cell_type": "code",
   "execution_count": null,
   "metadata": {},
   "outputs": [],
   "source": [
    "import os\n",
    "from pprint import pprint\n",
    "from urllib3.util.retry import Retry\n",
    "\n",
    "import requests\n",
    "from requests.adapters import HTTPAdapter\n",
    "\n",
    "PLANET_API_URL = 'https://api.planet.com/data/v1'\n",
    "\n",
    "def setup_session(api_key=None):\n",
    "    \"\"\"\n",
    "    Initialize a requests.Session that handles Planet api key auth and retries.\n",
    "    \n",
    "    :param str api_key:\n",
    "        A Planet api key. Will be read from the PL_API_KEY env var if not specified.\n",
    "    \n",
    "    :returns requests.Session session:\n",
    "        A Session instance optimized for use with Planet's api.\n",
    "    \"\"\"\n",
    "    if api_key is None:\n",
    "        api_key = os.getenv('PL_API_KEY')\n",
    "\n",
    "    session = requests.Session()\n",
    "    session.auth = (api_key, '')\n",
    "\n",
    "    retries = Retry(total=5,\n",
    "                    backoff_factor=0.2,  \n",
    "                    status_forcelist=[429])\n",
    "\n",
    "    session.mount('https://', HTTPAdapter(max_retries=retries))\n",
    "    return session\n",
    "\n",
    "session = setup_session() # Or pass in an api key if the environment variable isn't set"
   ]
  }
 ],
 "metadata": {
  "kernelspec": {
   "display_name": "Python 3",
   "language": "python",
   "name": "python3"
  },
  "language_info": {
   "codemirror_mode": {
    "name": "ipython",
    "version": 3
   },
   "file_extension": ".py",
   "mimetype": "text/x-python",
   "name": "python",
   "nbconvert_exporter": "python",
   "pygments_lexer": "ipython3",
   "version": "3.7.4"
  }
 },
 "nbformat": 4,
 "nbformat_minor": 2
}
