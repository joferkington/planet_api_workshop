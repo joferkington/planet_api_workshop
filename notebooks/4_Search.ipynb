{
 "cells": [
  {
   "cell_type": "code",
   "execution_count": null,
   "metadata": {},
   "outputs": [],
   "source": [
    "# General setup, as explained earlier\n",
    "import os\n",
    "from pprint import pprint\n",
    "from urllib3.util.retry import Retry\n",
    "\n",
    "import requests\n",
    "from requests.adapters import HTTPAdapter\n",
    "\n",
    "PLANET_API_URL = 'https://api.planet.com/data/v1'\n",
    "\n",
    "def setup_session(api_key=None):\n",
    "    \"\"\"\n",
    "    Initialize a requests.Session that handles Planet api key auth and retries.\n",
    "    \n",
    "    :param str api_key:\n",
    "        A Planet api key. Will be read from the PL_API_KEY env var if not specified.\n",
    "    \n",
    "    :returns requests.Session session:\n",
    "        A Session instance optimized for use with Planet's api.\n",
    "    \"\"\"\n",
    "    if api_key is None:\n",
    "        api_key = os.getenv('PL_API_KEY')\n",
    "\n",
    "    session = requests.Session()\n",
    "    session.auth = (api_key, '')\n",
    "\n",
    "    retries = Retry(total=5,\n",
    "                    backoff_factor=0.2,  \n",
    "                    status_forcelist=[429])\n",
    "\n",
    "    session.mount('https://', HTTPAdapter(max_retries=retries))\n",
    "    return session\n",
    "\n",
    "session = setup_session() # Or pass in an api key if the environment variable isn't set"
   ]
  },
  {
   "cell_type": "markdown",
   "metadata": {},
   "source": [
    "Searching\n",
    "---------------\n",
    "\n",
    "So far, we've been exploring writing filters and getting scene counts using those filters.  Let's use what we've learned about constructing filters to search for scenes that meet those criteria (i.e. get scene IDs instead of just counts).\n",
    "\n",
    "---\n",
    "\n",
    "There are two types of searches: \n",
    "* **\"Quick Search\"** `/quick-search`\n",
    "* **\"Saved Searches\"** `/searches`\n",
    "\n",
    "Saved searches are retained on the Planet Platform and may be performed again at any time in the future. You can use these to setup efficient workflows for repetitive tasks, for example, querying an area that is of interest to you, or getting data for specific sensors.\n",
    "\n",
    "Quick searches are meant to be more fleeting, and are not guaranteed to be available on the API after they are executed.\n",
    "\n",
    "Searches use the same request format as the `/stats` endpoint except without the `interval` field."
   ]
  },
  {
   "cell_type": "markdown",
   "metadata": {},
   "source": [
    "## Quick Search\n",
    "\n",
    "Let's dive right in and create our first `quick search`:"
   ]
  },
  {
   "cell_type": "code",
   "execution_count": null,
   "metadata": {},
   "outputs": [],
   "source": [
    "# Setup the quick search endpoint url\n",
    "quick_url = \"{}/quick-search\".format(PLANET_API_URL)\n",
    "\n",
    "# Setup Item Types\n",
    "item_types = [\"PSScene4Band\"]\n",
    "\n",
    "# Setup GeoJSON for only imagery that intersects with 40N, 90W\n",
    "geom = {\n",
    "    \"type\": \"Point\",\n",
    "    \"coordinates\": [\n",
    "        -90,\n",
    "         40\n",
    "    ]\n",
    "}\n",
    "\n",
    "# Setup a geometry filter\n",
    "geometry_filter = {\n",
    "    \"type\": \"GeometryFilter\",\n",
    "    \"field_name\": \"geometry\",\n",
    "    \"config\": geom\n",
    "}\n",
    "\n",
    "# Setup the request\n",
    "request = {\n",
    "    \"item_types\" : item_types,\n",
    "    \"filter\" : geometry_filter\n",
    "}\n",
    "\n",
    "# Send the POST request to the API quick search endpoint\n",
    "res = session.post(quick_url, json=request)\n",
    "res.raise_for_status()\n",
    "geojson = res.json()\n",
    "\n",
    "# Print the response\n",
    "pprint(geojson)"
   ]
  },
  {
   "cell_type": "markdown",
   "metadata": {},
   "source": [
    "Nice! The response gives us search results for Planet Scope (4 Band) for a specific area.  You might notice that the response looks a lot like GeoJSON -- this is deliberate.  You can treat the `features` key in the response as a sequence of GeoJSON features. \n",
    "\n",
    "Let's do another search, this time for Dove R imagery (newer sats) in August in the AOI above:"
   ]
  },
  {
   "cell_type": "code",
   "execution_count": null,
   "metadata": {},
   "outputs": [],
   "source": [
    "# Here we'll find PSScene3Band imagery from Dove R / superdove sats that intersect the point\n",
    "# 40N, 90W that were acquired in August 2019\n",
    "item_types = [\"PSScene3Band\"]\n",
    "\n",
    "# Setup instrument filter to negate\n",
    "instrument_filter = {\n",
    "    \"type\": \"StringInFilter\",\n",
    "    \"field_name\": \"instrument\",\n",
    "    \"config\": [\"PS2.SD\"]\n",
    "}\n",
    "\n",
    "date_filter = {\n",
    "  \"type\": \"DateRangeFilter\",\n",
    "  \"field_name\": \"acquired\",\n",
    "  \"config\": {\n",
    "    \"gt\": \"2019-08-01T00:00:00Z\",\n",
    "    \"lte\": \"2019-09-01T00:00:00Z\"\n",
    "  }\n",
    "}\n",
    "\n",
    "and_filter = {\n",
    "    \"type\": \"AndFilter\",\n",
    "    \"config\": [geometry_filter, instrument_filter, date_filter]\n",
    "}\n",
    "\n",
    "# Setup the request\n",
    "request = {\n",
    "    \"item_types\" : item_types,\n",
    "    \"filter\" : and_filter\n",
    "}\n",
    "\n",
    "# Send the POST request to the API quick search endpoint\n",
    "res = session.post(quick_url, json=request)\n",
    "res.raise_for_status()\n",
    "geojson = res.json()\n",
    "\n",
    "# Print the response\n",
    "pprint(geojson)"
   ]
  },
  {
   "cell_type": "code",
   "execution_count": null,
   "metadata": {},
   "outputs": [],
   "source": [
    "print('There are {} scenes that match our search'.format(len(geojson['features'])))\n",
    "for f in geojson['features']:\n",
    "    # Print the ID for each feature\n",
    "    print(f[\"id\"])"
   ]
  },
  {
   "cell_type": "code",
   "execution_count": null,
   "metadata": {},
   "outputs": [],
   "source": [
    "# Let's have a look at the first feature, for a reminder of the formatting/etc:\n",
    "pprint(geojson['features'][0])"
   ]
  },
  {
   "cell_type": "markdown",
   "metadata": {},
   "source": [
    "## Assets & Permissions\n",
    "\n",
    "Let's briefly discuss the `_permissions` section.  You may notice that yours looks different than the one on the instructor's display.  Searches will return items even when you don't have permission to download that item.  \n",
    "\n",
    "As we discussed a couple of sections ago, `assets` are different imagery files, image masks, metadata files or other file types that are associated with the item.  The permissions are generally set at an `asset` level -- you may have permissions to download one asset but not another.\n",
    "\n",
    "The `_permissions` element in each feature contains a list of assets that the user has access to.  Because this scene is from an AOI that the accounts for this workshop don't have access to, you probably won't have access to many of the assets.  Let's check by looking at:"
   ]
  },
  {
   "cell_type": "code",
   "execution_count": null,
   "metadata": {},
   "outputs": [],
   "source": [
    "pprint(geojson['features'][0]['_permissions'])"
   ]
  },
  {
   "cell_type": "markdown",
   "metadata": {},
   "source": [
    "Pagination\n",
    "----------\n",
    "\n",
    "What happens when there are A LOT of results? \n",
    "\n",
    "When the number of matching items exceeds 250, the results are delivered in pages. Let's perform a search query that should return a large number of results:"
   ]
  },
  {
   "cell_type": "code",
   "execution_count": null,
   "metadata": {},
   "outputs": [],
   "source": [
    "# We'll use a point again for brevity -- Polygons are more common in practice!\n",
    "geom = {\n",
    "    \"type\": \"Point\",\n",
    "    \"coordinates\": [\n",
    "        -90,\n",
    "         40\n",
    "    ]\n",
    "}\n",
    "\n",
    "# Setup the geometry filter\n",
    "geometry_filter = {\n",
    "    \"type\": \"GeometryFilter\",\n",
    "    \"field_name\": \"geometry\",\n",
    "    \"config\": geom\n",
    "}\n",
    "\n",
    "# Setup the request\n",
    "request = {\n",
    "    \"item_types\" : item_types,\n",
    "    \"filter\" : geometry_filter\n",
    "}\n",
    "\n",
    "# Send the POST request to the API quick search endpoint\n",
    "res = session.post(quick_url, json=request)\n",
    "res.raise_for_status()\n",
    "geojson = res.json()"
   ]
  },
  {
   "cell_type": "markdown",
   "metadata": {},
   "source": [
    "This will return a lot of results (no date range -- everything in that AOI).  Note that we'll only get 250 results in the first page by default:"
   ]
  },
  {
   "cell_type": "code",
   "execution_count": null,
   "metadata": {},
   "outputs": [],
   "source": [
    "print(len(geojson['features']))"
   ]
  },
  {
   "cell_type": "markdown",
   "metadata": {},
   "source": [
    "Let's dig into how the results are paginated (i.e. split up into batches).  The next set of results is stored in the `_next` key of the `_links` section:"
   ]
  },
  {
   "cell_type": "code",
   "execution_count": null,
   "metadata": {},
   "outputs": [],
   "source": [
    "pprint(geojson['_links'])"
   ]
  },
  {
   "cell_type": "markdown",
   "metadata": {},
   "source": [
    "We can request the next batch of 250 results with a `GET` request to the link in `_next`:"
   ]
  },
  {
   "cell_type": "code",
   "execution_count": null,
   "metadata": {},
   "outputs": [],
   "source": [
    "next_geojson = session.get(geojson['_links']['_next']).json()\n",
    "pprint(next_geojson['features'])"
   ]
  },
  {
   "cell_type": "markdown",
   "metadata": {},
   "source": [
    "The set of results is finished (or not paginated) when there's not a `_next` key in `_links`.  This means we can iterate through the full set similar to:"
   ]
  },
  {
   "cell_type": "code",
   "execution_count": null,
   "metadata": {},
   "outputs": [],
   "source": [
    "def all_features(item_types, filter_defn):\n",
    "    \"\"\"\n",
    "    Iterate through all results for the specified items (e.g. PSScene3Band) and\n",
    "    search filter.  Yields a geojson-feature-like dict for each scene returned\n",
    "    by the search.\n",
    "    \n",
    "    :param sequence item_types:\n",
    "        A list or other sequence of Planet item types.\n",
    "    :param dict filter_defn:\n",
    "        A Planet search definition\n",
    "    \"\"\"\n",
    "    request = {'item_types': item_types, 'filter': filter_defn}\n",
    "    url = \"{}/quick-search\".format(PLANET_API_URL)\n",
    "    response = session.post(url, json=request)\n",
    "    response.raise_for_status()\n",
    "    body = response.json()\n",
    "    \n",
    "    for item in body['features']:\n",
    "        yield item\n",
    "    \n",
    "    next_url = body['_links'].get('_next')\n",
    "    while next_url:\n",
    "        response = session.get(next_url)\n",
    "        response.raise_for_status()\n",
    "        body = response.json()\n",
    "        next_url = body['_links'].get('_next')\n",
    "        for item in body['features']:\n",
    "            yield item\n",
    "\n",
    "            \n",
    "print('Number of PSScene3Band scenes at the point 40N, 90W:')\n",
    "print(len(list(all_features(item_types, geometry_filter))))"
   ]
  },
  {
   "cell_type": "markdown",
   "metadata": {},
   "source": [
    "Saved Searches\n",
    "------------------------"
   ]
  },
  {
   "cell_type": "markdown",
   "metadata": {},
   "source": [
    "---\n",
    "\n",
    "The `/searches` endpoint lets you created saved searches that can be reused and that you can optionally enable e-mail alerts for.\n",
    "\n",
    "To view your saved searches, visit the [`searches/?search_type=saved`](https://api.planet.com/data/v1/searches/?search_type=saved) endpoint.\n",
    "\n",
    "Finally, let's create a saved search:"
   ]
  },
  {
   "cell_type": "code",
   "execution_count": null,
   "metadata": {},
   "outputs": [],
   "source": [
    "# Setup the saved searches endpoint url\n",
    "searches_url = \"{}/searches\".format(PLANET_API_URL)\n",
    "\n",
    "# Polygon of Vancouver Island\n",
    "geom = {\n",
    "    \"type\": \"Polygon\",\n",
    "    \"coordinates\": [\n",
    "      [\n",
    "        [\n",
    "          -125.29632568359376,\n",
    "          48.37084770238366\n",
    "        ],\n",
    "        [\n",
    "          -125.29632568359376,\n",
    "          49.335861591104106\n",
    "        ],\n",
    "        [\n",
    "          -123.2391357421875,\n",
    "          49.335861591104106\n",
    "        ],\n",
    "        [\n",
    "          -123.2391357421875,\n",
    "          48.37084770238366\n",
    "        ],\n",
    "        [\n",
    "          -125.29632568359376,\n",
    "          48.37084770238366\n",
    "        ]\n",
    "      ]\n",
    "    ]\n",
    "  }\n",
    "\n",
    "# Setup the geometry filter\n",
    "geometry_filter = {\n",
    "    \"type\": \"GeometryFilter\",\n",
    "    \"field_name\": \"geometry\",\n",
    "    \"config\": geom\n",
    "}\n",
    "request = {\n",
    "    \"name\" : \"Vancouver Island\",\n",
    "    \"item_types\" : ['PSScene4Band'],\n",
    "    \"filter\" : geometry_filter,\n",
    "}\n",
    "\n",
    "# Send a POST request to the saved searches endpoint (Create the saved search)\n",
    "res = session.post(searches_url, json=request)\n",
    "res.raise_for_status()\n",
    "our_search = res.json()\n",
    "\n",
    "# Print the response\n",
    "pprint(our_search)"
   ]
  },
  {
   "cell_type": "markdown",
   "metadata": {},
   "source": [
    "We can also list all of our saved searches.  We'll see the one we've created as well as any others that existed before:"
   ]
  },
  {
   "cell_type": "code",
   "execution_count": null,
   "metadata": {},
   "outputs": [],
   "source": [
    "# Send a GET request to the saved searches endpoint with the saved search type parameter (Get saved searches)\n",
    "res = session.get(searches_url, params={\"search_type\" : \"saved\"})\n",
    "res.raise_for_status()\n",
    "searches = res.json()[\"searches\"]\n",
    "\n",
    "for search in searches:\n",
    "    # Print the ID, Created Time, and Name for each saved search\n",
    "    print(\"id: {} created: {} name: {}\".format(search[\"id\"], search[\"created\"], search['name']))"
   ]
  },
  {
   "cell_type": "markdown",
   "metadata": {},
   "source": [
    "Ok, now let's check out the results from a particular saved search.  We'll use the one we just created.  As usual, the `_links` item has the url we'll need to request.  However, you can also construct the url from scatch if you know the search ID:"
   ]
  },
  {
   "cell_type": "code",
   "execution_count": null,
   "metadata": {},
   "outputs": [],
   "source": [
    "# The results url is the search ID\n",
    "results_url = our_search['_links']['results']\n",
    "print(results_url)\n",
    "\n",
    "# But if you know the search's ID, the rest is easy:\n",
    "print(our_search['id'])\n",
    "print('{}/searches/{}/results'.format(PLANET_API_URL, our_search['id']))"
   ]
  },
  {
   "cell_type": "code",
   "execution_count": null,
   "metadata": {},
   "outputs": [],
   "source": [
    "# Now let's get the results:\n",
    "# Send a GET request to the saved search results url (Get the saved search results)\n",
    "results = session.get(results_url).json()\n",
    "\n",
    "# Print the number of features in the saved search\n",
    "print(len(results[\"features\"]))\n",
    "\n",
    "# Print the first feature in the saved search\n",
    "pprint(results[\"features\"][0])"
   ]
  },
  {
   "cell_type": "markdown",
   "metadata": {},
   "source": [
    "A saved search can also be updated by senidng a **`PUT`** request with a changed search definition back to the API.\n",
    "\n",
    "Did you know that saved searches can also send you a daily email to alert you to when new items are added to the search resutlts? Oh yeah!"
   ]
  },
  {
   "cell_type": "code",
   "execution_count": null,
   "metadata": {},
   "outputs": [],
   "source": [
    "# Remember that weird `__daily_email_enabled` key when we created the search?\n",
    "pprint(our_search)"
   ]
  },
  {
   "cell_type": "code",
   "execution_count": null,
   "metadata": {},
   "outputs": [],
   "source": [
    "# Let's update it!\n",
    "\n",
    "# Change the saved search name to \"South Vancouver Island\"\n",
    "our_search[\"name\"] = \"South Vancouver Island\"\n",
    "\n",
    "# Set the daily email enabled to true (Get email alerts when new items show up in this search)\n",
    "our_search[\"__daily_email_enabled\"] = True\n",
    "\n",
    "# Send a PUT request to the saved search's url (the _self link)\n",
    "our_search_url = our_search['_links']['_self']\n",
    "res = session.put(our_search_url, json=our_search)\n",
    "res.raise_for_status()\n",
    "\n",
    "# ...and just to check that it really worked...  (Also demonstrates the _self link)\n",
    "pprint(session.get(our_search_url).json())"
   ]
  },
  {
   "cell_type": "markdown",
   "metadata": {},
   "source": [
    "And finally, let's delete the search we created, so we don't spam ourselves with daily e-mails for Vancouver Island!"
   ]
  },
  {
   "cell_type": "code",
   "execution_count": null,
   "metadata": {},
   "outputs": [],
   "source": [
    "# Make a DELETE request to the search's url to delete it:\n",
    "res = session.delete(our_search_url)\n",
    "res.raise_for_status()\n",
    "\n",
    "# Now let's list our saved searches again and verify that it's not there:\n",
    "res = session.get(searches_url, params={\"search_type\" : \"saved\"})\n",
    "res.raise_for_status()\n",
    "searches = res.json()[\"searches\"]\n",
    "\n",
    "for search in searches:\n",
    "    # Print the ID, Created Time, and Name for each saved search\n",
    "    print(\"id: {} created: {} name: {}\".format(search[\"id\"], search[\"created\"], search['name']))"
   ]
  }
 ],
 "metadata": {
  "kernelspec": {
   "display_name": "Python 3",
   "language": "python",
   "name": "python3"
  },
  "language_info": {
   "codemirror_mode": {
    "name": "ipython",
    "version": 3
   },
   "file_extension": ".py",
   "mimetype": "text/x-python",
   "name": "python",
   "nbconvert_exporter": "python",
   "pygments_lexer": "ipython3",
   "version": "3.7.4"
  }
 },
 "nbformat": 4,
 "nbformat_minor": 2
}
